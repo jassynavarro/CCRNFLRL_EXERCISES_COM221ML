{
  "nbformat": 4,
  "nbformat_minor": 0,
  "metadata": {
    "colab": {
      "provenance": []
    },
    "kernelspec": {
      "name": "python3",
      "display_name": "Python 3"
    },
    "language_info": {
      "name": "python"
    }
  },
  "cells": [
    {
      "cell_type": "markdown",
      "source": [
        "# Exercise 2"
      ],
      "metadata": {
        "id": "gh4_1T3XTRg6"
      }
    },
    {
      "cell_type": "code",
      "source": [
        "from math import sqrt, log\n",
        "import pandas as pd"
      ],
      "metadata": {
        "id": "-6zwzOH0TMq0"
      },
      "execution_count": null,
      "outputs": []
    },
    {
      "cell_type": "markdown",
      "source": [
        "## Step 1: Enter your data\n",
        "\n",
        "Add a new row after each pull: Pull number, Machine played (\"A\", \"B\", \"C\"), and Reward earned."
      ],
      "metadata": {
        "id": "kZCcIK8dTkot"
      }
    },
    {
      "cell_type": "code",
      "source": [
        "data = pd.DataFrame({\n",
        "    \"Pull\": [1, 2, 3, 4, 5, 6, 7, 8, 9, 10,\n",
        "             11, 12, 13, 14, 15, 16, 17, 18, 19, 20,\n",
        "             21, 22, 23, 24, 25, 26, 27, 28, 29, 30,\n",
        "             31, 32, 33, 34, 35, 36, 37, 38, 39, 40,\n",
        "             41, 42, 43, 44, 45, 46, 47, 48, 49, 50\n",
        "             ],          # Pull number\n",
        "    \"Machine\": [\"A\", \"B\", \"C\", \"C\", \"C\", \"C\", \"C\", \"C\", \"C\", \"C\",\n",
        "                \"C\", \"C\", \"C\", \"C\", \"C\", \"C\", \"C\", \"C\", \"C\", \"C\",\n",
        "                \"C\", \"C\", \"C\", \"C\", \"C\", \"C\", \"C\", \"C\", \"C\", \"C\",\n",
        "                \"C\", \"C\", \"C\", \"C\", \"C\", \"A\", \"B\", \"C\", \"C\", \"C\",\n",
        "                \"C\", \"C\", \"C\", \"C\", \"C\", \"C\", \"C\", \"C\", \"C\", \"C\"\n",
        "    ], # Which machine was played\n",
        "    \"Reward\": [0, 0, 5, 5, 0, 0, 0, 0, 0, 20,\n",
        "               5, 2, 0, 0, 0, 0, 2, 0, 5, 0,\n",
        "               5, 2, 2, 2, 2, 0, 0, 2, 0, 0,\n",
        "               0, 0, 0, 5, 0, 0, 0, 0, 2, 0,\n",
        "               0, 0, 5, 0, 0, 0, 0, 0, 0, 15\n",
        "               ]         # Reward received from that machine\n",
        "})"
      ],
      "metadata": {
        "id": "_XJg9sNjTP9s"
      },
      "execution_count": null,
      "outputs": []
    },
    {
      "cell_type": "markdown",
      "source": [
        "# Step 2: Calculate UCB"
      ],
      "metadata": {
        "id": "9pAruytjTt-b"
      }
    },
    {
      "cell_type": "code",
      "execution_count": null,
      "metadata": {
        "id": "7iyebQ41S3pA"
      },
      "outputs": [],
      "source": [
        "def calculate_ucb(df):\n",
        "    results = []\n",
        "    total_pulls = len(df)\n",
        "    machines = sorted(df[\"Machine\"].unique())\n",
        "\n",
        "    for machine in machines:\n",
        "        machine_data = df[df[\"Machine\"] == machine]\n",
        "        n_j = len(machine_data)\n",
        "        avg_reward = machine_data[\"Reward\"].mean()\n",
        "        exploration_bonus = sqrt((2 * log(total_pulls)) / n_j) if n_j > 0 else float(\"inf\")\n",
        "        ucb_score = avg_reward + exploration_bonus\n",
        "        results.append({\n",
        "            \"Machine\": machine,\n",
        "            \"Pulls\": n_j,\n",
        "            \"Avg Reward\": round(avg_reward, 2),\n",
        "            \"Exploration Bonus\": round(exploration_bonus, 4),\n",
        "            \"UCB Score\": round(ucb_score, 4)\n",
        "        })\n",
        "    return pd.DataFrame(results).sort_values(by=\"UCB Score\", ascending=False)"
      ]
    },
    {
      "cell_type": "markdown",
      "source": [
        "\n",
        "# Step 3: Calculate and display\n"
      ],
      "metadata": {
        "id": "GmVaGjpdT4eA"
      }
    },
    {
      "cell_type": "code",
      "source": [
        "ucb_table = calculate_ucb(data)\n",
        "print(\"📊 UCB Results Table\")\n",
        "print(ucb_table)"
      ],
      "metadata": {
        "colab": {
          "base_uri": "https://localhost:8080/"
        },
        "id": "ZXBIvOEVTVND",
        "outputId": "0aec7f31-16c8-44a8-cde3-ba6c9ea2bd9d"
      },
      "execution_count": null,
      "outputs": [
        {
          "output_type": "stream",
          "name": "stdout",
          "text": [
            "📊 UCB Results Table\n",
            "  Machine  Pulls  Avg Reward  Exploration Bonus  UCB Score\n",
            "2       C     46        1.87             0.4124     2.2820\n",
            "0       A      2        0.00             1.9779     1.9779\n",
            "1       B      2        0.00             1.9779     1.9779\n"
          ]
        }
      ]
    },
    {
      "cell_type": "markdown",
      "source": [
        "# Step 4: Next machine suggestion"
      ],
      "metadata": {
        "id": "YURFdhQmUCjl"
      }
    },
    {
      "cell_type": "code",
      "source": [
        "best_machine = ucb_table.iloc[0][\"Machine\"]\n",
        "print(f\"\\n🎯 Recommended next machine to play: {best_machine}\")"
      ],
      "metadata": {
        "colab": {
          "base_uri": "https://localhost:8080/"
        },
        "id": "XufYOkGET_l-",
        "outputId": "09ca06d8-02d4-46c6-d773-8e91c7ce5e35"
      },
      "execution_count": null,
      "outputs": [
        {
          "output_type": "stream",
          "name": "stdout",
          "text": [
            "\n",
            "🎯 Recommended next machine to play: C\n"
          ]
        }
      ]
    },
    {
      "cell_type": "markdown",
      "source": [
        "Reflection:\n",
        "\n",
        "Machine C gives of the most rewards."
      ],
      "metadata": {
        "id": "q65g57P2V4yG"
      }
    }
  ]
}